{
 "cells": [
  {
   "cell_type": "code",
   "execution_count": 2,
   "id": "4f58c0f4-b30f-472b-b88a-08c626f83ba7",
   "metadata": {},
   "outputs": [
    {
     "name": "stdin",
     "output_type": "stream",
     "text": [
      "Enter nos of students: 5\n",
      "Enter marks for FDS in range[0-100] and -1 if absent: for 20\n",
      "Enter marks for FDS in range[0-100] and -1 if absent: for 20\n",
      "Enter marks for FDS in range[0-100] and -1 if absent: for -1\n",
      "Enter marks for FDS in range[0-100] and -1 if absent: for 20\n",
      "Enter marks for FDS in range[0-100] and -1 if absent: for 20\n"
     ]
    },
    {
     "name": "stdout",
     "output_type": "stream",
     "text": [
      "[20, 20, -1, 20, 20]\n",
      "1\n",
      "average: 20.0\n",
      "Highest: 20\n",
      "lowest: 20\n",
      "Nos of Absent: 1\n",
      "frequency of each marks:\n",
      "Mark20:4 times \n",
      "Mark-1:1 times \n"
     ]
    }
   ],
   "source": [
    "fds_marks=[]\n",
    "n =int(input(\"Enter nos of students:\"))\n",
    "for s1 in range(0,n):\n",
    "    while(1):\n",
    "        marks=int(input(\"Enter marks for FDS in range[0-100] and -1 if absent: for\"))\n",
    "        if(marks>=-1)and(marks<101):\n",
    "            fds_marks.append(marks)\n",
    "            break\n",
    "        else:\n",
    "            print(\"invalid marks Re-Try, range[0-100]\")\n",
    "print(fds_marks)\n",
    "print(fds_marks.count(-1))\n",
    "#query 1:\n",
    "#The avg score of class:\n",
    "print(\"average:\", (sum(fds_marks)+(fds_marks.count(-1)))/(n-fds_marks.count(-1)))\n",
    "#query 2:\n",
    "#the higest score and Lowest score of class:\n",
    "print(\"Highest:\",max(fds_marks))\n",
    "temp=fds_marks.copy()\n",
    "while(-1 in fds_marks):\n",
    "      fds_marks.remove(-1)\n",
    "print(\"lowest:\", min(fds_marks))\n",
    "fds_marks=temp.copy()\n",
    "#query 3:\n",
    "#count student who were absent for exam\n",
    "print(\"Nos of Absent:\", fds_marks.count(-1))\n",
    "\n",
    "#query 4:\n",
    "frequency={}\n",
    "for mark in fds_marks:\n",
    "    if mark in frequency:\n",
    "        frequency[marks]+=1\n",
    "    else:\n",
    "        frequency[mark]=1\n",
    "\n",
    "\n",
    "\n",
    "print(\"frequency of each marks:\")\n",
    "for mark,count in frequency.items():\n",
    "    print(f\"Mark{mark}:{count} times \")\n"
   ]
  },
  {
   "cell_type": "code",
   "execution_count": null,
   "id": "b96318e1-92a9-4ed3-9849-8031450ae9b6",
   "metadata": {},
   "outputs": [],
   "source": []
  }
 ],
 "metadata": {
  "kernelspec": {
   "display_name": "Python 3 (ipykernel)",
   "language": "python",
   "name": "python3"
  },
  "language_info": {
   "codemirror_mode": {
    "name": "ipython",
    "version": 3
   },
   "file_extension": ".py",
   "mimetype": "text/x-python",
   "name": "python",
   "nbconvert_exporter": "python",
   "pygments_lexer": "ipython3",
   "version": "3.11.7"
  }
 },
 "nbformat": 4,
 "nbformat_minor": 5
}
