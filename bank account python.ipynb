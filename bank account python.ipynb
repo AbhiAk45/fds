{
 "cells": [
  {
   "cell_type": "code",
   "execution_count": null,
   "id": "fa1fc075-73e0-4687-b164-30541686459e",
   "metadata": {},
   "outputs": [],
   "source": [
    "bal=0\n",
    "while(1):\n",
    "    t=input(\"Enter Transaction \\nE-Exit\\nD-Diposit Amt\\nW-Withdraw Amt:\\nTransaction:\")\n",
    "    d=t\n",
    "    #print(d)\n",
    "    if(d[0]=='E'):\n",
    "       break\n",
    "    if(d[0]=='D'): #deposit\n",
    "        bal=bal-int(d[1])\n",
    "    else:\n",
    "        if(d[0]=='W')and(bal>int(d[1])):\n",
    "            bal=bal-int(d[1])\n",
    "        else:\n",
    "            print(\"Incorrectt input/ insufficient balance:\")\n",
    "    print(\"Current Balance:\",bal)"
   ]
  }
 ],
 "metadata": {
  "kernelspec": {
   "display_name": "Python 3 (ipykernel)",
   "language": "python",
   "name": "python3"
  },
  "language_info": {
   "codemirror_mode": {
    "name": "ipython",
    "version": 3
   },
   "file_extension": ".py",
   "mimetype": "text/x-python",
   "name": "python",
   "nbconvert_exporter": "python",
   "pygments_lexer": "ipython3",
   "version": "3.11.7"
  }
 },
 "nbformat": 4,
 "nbformat_minor": 5
}
