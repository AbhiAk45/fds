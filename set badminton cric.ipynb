{
 "cells": [
  {
   "cell_type": "code",
   "execution_count": 5,
   "id": "c0989012-7edf-4a48-8c5f-158021d7984b",
   "metadata": {},
   "outputs": [
    {
     "name": "stdin",
     "output_type": "stream",
     "text": [
      "Enter Cricket members seperated by commas: 1,2,3,4,5\n",
      "Enter Badminton members seperated by commas: 2,3,4,5,6\n",
      "Enter Football members seperated by commas: 4,5,6,8\n"
     ]
    },
    {
     "name": "stdout",
     "output_type": "stream",
     "text": [
      "[1, 2, 3, 4, 5] [2, 3, 4, 5, 6] [4, 5, 6, 8]\n",
      "[1, 2, 3, 4, 5, 2, 3, 4, 5, 6] [2, 3, 4, 5] [1]\n"
     ]
    }
   ],
   "source": [
    "def removeDup(set1):\n",
    "    for i in set1:\n",
    "        cnt=set1.count(i)\n",
    "        while(cnt>1):\n",
    "            set1.remove(i)\n",
    "            cnt=set1.count(i)\n",
    "        return(set1)\n",
    "def getMember(setName='A'):\n",
    "    l1=list(eval(input(\"Enter \"+setName+\" members seperated by commas:\")))\n",
    "    l1=removeDup(l1)\n",
    "    return(l1)\n",
    "\n",
    "def setunion(A1,B1):\n",
    "    A1=A1+B1\n",
    "    A1=removeDup(A1)\n",
    "    return(A1)\n",
    "\n",
    "def setintersection(A1,B1):\n",
    "    C1=[]\n",
    "    for i in A1:\n",
    "        if(i in B1):\n",
    "            C1.append(i)\n",
    "    return(C1)\n",
    "\n",
    "def setdiff(A1,B1):\n",
    "    C1=[]\n",
    "    for i in A1:\n",
    "        if(i not in B1):\n",
    "            C1.append(i)\n",
    "    return(C1)\n",
    "    #cricket=list(eval(input(\"enter cricket members:\")))\n",
    "#print(type(cricket),cricket)\n",
    "A=getMember(\"Cricket\")\n",
    "B=getMember(\"Badminton\")\n",
    "C=getMember(\"Football\")\n",
    "print(A,B,C)\n",
    "union1=setunion(A,B)\n",
    "int1=setintersection(A,B)\n",
    "diff1=setdiff(A,B)\n",
    "print(union1,int1,diff1)"
   ]
  },
  {
   "cell_type": "code",
   "execution_count": 6,
   "id": "a2ad67c9-2740-4172-96f3-ea58fc4a4fbd",
   "metadata": {},
   "outputs": [
    {
     "name": "stdout",
     "output_type": "stream",
     "text": [
      "[2, 3, 4, 5]\n"
     ]
    }
   ],
   "source": [
    "query1=\" a) List of students who play both cricket and badminton:\"\n",
    "int1=setintersection(A,B)\n",
    "print(int1)"
   ]
  },
  {
   "cell_type": "code",
   "execution_count": 7,
   "id": "52d9b362-dbfb-46a3-b473-e70d800b12c2",
   "metadata": {},
   "outputs": [
    {
     "name": "stdout",
     "output_type": "stream",
     "text": [
      "[1]\n"
     ]
    }
   ],
   "source": [
    "query2=\" b) List of students who play either cricket or bademinton but not both:\"\n",
    "int2=setdiff(A,B)\n",
    "print(int2)"
   ]
  },
  {
   "cell_type": "code",
   "execution_count": null,
   "id": "e644469b-8745-497b-a8ee-550862faffaf",
   "metadata": {},
   "outputs": [],
   "source": [
    "query3=\" c) Number of students who play neither cricket nor badminton"
   ]
  }
 ],
 "metadata": {
  "kernelspec": {
   "display_name": "Python 3 (ipykernel)",
   "language": "python",
   "name": "python3"
  },
  "language_info": {
   "codemirror_mode": {
    "name": "ipython",
    "version": 3
   },
   "file_extension": ".py",
   "mimetype": "text/x-python",
   "name": "python",
   "nbconvert_exporter": "python",
   "pygments_lexer": "ipython3",
   "version": "3.11.7"
  }
 },
 "nbformat": 4,
 "nbformat_minor": 5
}
